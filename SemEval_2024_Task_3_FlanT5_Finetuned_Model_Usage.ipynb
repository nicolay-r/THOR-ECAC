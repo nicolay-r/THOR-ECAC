{
  "nbformat": 4,
  "nbformat_minor": 0,
  "metadata": {
    "colab": {
      "provenance": [],
      "machine_shape": "hm",
      "gpuType": "L4",
      "authorship_tag": "ABX9TyO2lkwx2lRQwW8zlKACp9Px",
      "include_colab_link": true
    },
    "kernelspec": {
      "name": "python3",
      "display_name": "Python 3"
    },
    "language_info": {
      "name": "python"
    },
    "accelerator": "GPU"
  },
  "cells": [
    {
      "cell_type": "markdown",
      "metadata": {
        "id": "view-in-github",
        "colab_type": "text"
      },
      "source": [
        "<a href=\"https://colab.research.google.com/github/nicolay-r/THOR-ECAC/blob/master/SemEval_2024_Task_3_FlanT5_Finetuned_Model_Usage.ipynb\" target=\"_parent\"><img src=\"https://colab.research.google.com/assets/colab-badge.svg\" alt=\"Open In Colab\"/></a>"
      ]
    },
    {
      "cell_type": "markdown",
      "source": [
        "## Initialize"
      ],
      "metadata": {
        "id": "Oe4SdToTo23p"
      }
    },
    {
      "cell_type": "markdown",
      "source": [
        "Loadin model and tokenizer"
      ],
      "metadata": {
        "id": "pCZiy1ihpaE1"
      }
    },
    {
      "cell_type": "code",
      "source": [
        "from transformers import AutoTokenizer, T5ForConditionalGeneration\n",
        "\n",
        "# Setup model path.\n",
        "model_path = \"nicolay-r/flan-t5-emotion-cause-thor-base\"\n",
        "# Setup device.\n",
        "device = \"cuda:0\"\n",
        "\n",
        "model = T5ForConditionalGeneration.from_pretrained(model_path)\n",
        "tokenizer = AutoTokenizer.from_pretrained(model_path)\n",
        "model.to(device)"
      ],
      "metadata": {
        "id": "PXkd53SaoXG-"
      },
      "execution_count": null,
      "outputs": []
    },
    {
      "cell_type": "markdown",
      "source": [
        "Setup `ask` method for generating LLM responses."
      ],
      "metadata": {
        "id": "C1EykmC61ekQ"
      }
    },
    {
      "cell_type": "code",
      "execution_count": 15,
      "metadata": {
        "id": "d-CCg2IHoNui"
      },
      "outputs": [],
      "source": [
        "def ask(prompt):\n",
        "  inputs = tokenizer(prompt, return_tensors=\"pt\", add_special_tokens=False)\n",
        "  inputs.to(device)\n",
        "  output = model.generate(**inputs, max_length=320, temperature=1)\n",
        "  return tokenizer.batch_decode(output, skip_special_tokens=True)[0]"
      ]
    },
    {
      "cell_type": "markdown",
      "source": [
        "Setup Chain-of-Thought"
      ],
      "metadata": {
        "id": "JdFUnOKW1i7_"
      }
    },
    {
      "cell_type": "code",
      "source": [
        "def emotion_extraction_chain(context, target):\n",
        "  # Setup labels.\n",
        "  labels_list = [\"anger\", \"disgust\", \"fear\", \"joy\", \"sadness\", \"surprise\", \"neutral\"]\n",
        "  # Setup Chain-of-Thought\n",
        "  step1 = f\"Given the conversation {context}, which text spans are possibly causes emotion on {target}?\"\n",
        "  span = ask(step1)\n",
        "  step2 = f\"{step1}. The mentioned text spans are about {span}. Based on the common sense, what \" + f\"is the implicit opinion towards the mentioned text spans that causes emotion on {target}, and why?\"\n",
        "  opinion = ask(step2)\n",
        "  step3 = f\"{step2}. The opinion towards the text spans that causes emotion on {target} is {opinion}. \" + f\"Based on such opinion, what is the emotion state of {target}?\"\n",
        "  emotion_state = ask(step3)\n",
        "  step4 = f\"{step3}. The emotion state is {emotion_state}. Based on these contexts, summarize and return the emotion cause only.\" + \"Choose from: {}.\".format(\", \".join(labels_list))\n",
        "  # Return the final response.\n",
        "  return ask(step4)"
      ],
      "metadata": {
        "id": "FWjmKBDmocvB"
      },
      "execution_count": 19,
      "outputs": []
    },
    {
      "cell_type": "markdown",
      "source": [
        "## Usage"
      ],
      "metadata": {
        "id": "Y0T13wG71ahC"
      }
    },
    {
      "cell_type": "code",
      "source": [
        "# setup history context (conv_turn_1)\n",
        "conv_turn_1 = \"John: ohh you made up!\"\n",
        "# setup utterance.\n",
        "conv_turn_2 = \"Jake: yaeh, I could not be mad at him for too long!\"\n",
        "context = conv_turn_1 + conv_turn_2\n",
        "target = conv_turn_2\n",
        "flant5_response = emotion_extraction_chain(context, target)\n",
        "\n",
        "# output response\n",
        "print(f\"Emotion state of the speaker of `{target}` is: {flant5_response}\")"
      ],
      "metadata": {
        "colab": {
          "base_uri": "https://localhost:8080/"
        },
        "id": "abMQh8HwuQ5C",
        "outputId": "e259aec7-af49-4f59-d145-7aced2c3593b"
      },
      "execution_count": 20,
      "outputs": [
        {
          "output_type": "stream",
          "name": "stdout",
          "text": [
            "Emotion state of the speaker of `Jake: yaeh, I could not be mad at him for too long!` is: anger\n"
          ]
        }
      ]
    }
  ]
}